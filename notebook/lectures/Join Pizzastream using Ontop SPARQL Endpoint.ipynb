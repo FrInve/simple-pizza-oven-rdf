{
 "cells": [
  {
   "cell_type": "markdown",
   "metadata": {},
   "source": [
    "# Check the Publisher Endpoint"
   ]
  },
  {
   "cell_type": "code",
   "execution_count": 1,
   "metadata": {},
   "outputs": [],
   "source": [
    "from rsplib import RSPEngine, RSPPublisher, Stream, rdf_table,load_graph, accessURL, Task, URIRef"
   ]
  },
  {
   "cell_type": "code",
   "execution_count": 2,
   "metadata": {},
   "outputs": [],
   "source": [
    "streamhub = RSPPublisher(\"http://streamhub:9292/streamhub\")"
   ]
  },
  {
   "cell_type": "markdown",
   "metadata": {},
   "source": [
    "## Publication Query - SPARQL-like Syntax"
   ]
  },
  {
   "cell_type": "code",
   "execution_count": 3,
   "metadata": {},
   "outputs": [],
   "source": [
    "vocals = '''\n",
    "BASE  <http://streamhub:9292/streamhub>\n",
    "PREFIX xsd: <http://www.w3.org/2001/XMLSchema#>\n",
    "PREFIX rdfs: <http://www.w3.org/2000/01/rdf-schema#>\n",
    "PREFIX dcat: <http://www.w3.org/ns/dcat#>\n",
    "PREFIX frmt: <http://www.w3.org/ns/formats/>\n",
    "PREFIX vocals: <http://w3id.org/rsp/vocals#>\n",
    "PREFIX vsd: <http://w3id.org/rsp/vocals-sd#>\n",
    "REGISTER STREAM :pizzastream\n",
    "FROM SOURCE <ws://pizzastream:8080>\n",
    "WHERE {\n",
    "\n",
    "           {this} a vocals:StreamDescriptor .\n",
    "\n",
    "           {publisher} a vsd:PublishingService ;\n",
    "                         vsd:hasFeature vsd:replaying ;\n",
    "                         vsd:resultFormat frmt:JSON-LD .\n",
    "\n",
    "           :PizzaEndpoint a vocals:StreamEndpoint ;\n",
    "                            dcat:title \"A Pizza Stream Endpoint\"^^xsd:string ;\n",
    "                            dcat:description \"Streaming endpoint to consume Pizza via WebSocket\"^^xsd:string ;\n",
    "                            dcat:license <https://creativecommons.org/licenses/by-nc/4.0/> ;\n",
    "                            dcat:format frmt:JSON-LD ;\n",
    "                            dcat:accessURL {source} ;\n",
    "                            vsd:publishedBy {publisher} .\n",
    "\n",
    "           {stream} a vocals:RDFStream ;\n",
    "                    dcat:title \"Pizza Stream\"^^xsd:string ;\n",
    "                    dcat:description \"Stream of pizza\"^^xsd:string ;\n",
    "                    dcat:publisher {publisher} ;\n",
    "                    dcat:landingPage <https://example.org/rw/pizza/> ;\n",
    "                    vocals:hasEndpoint :PizzaEndpoint  .\n",
    "\n",
    "}'''"
   ]
  },
  {
   "cell_type": "code",
   "execution_count": 4,
   "metadata": {},
   "outputs": [
    {
     "data": {
      "text/plain": [
       "{\n",
       "    \"@id\": \"streams/pizzastream\",\n",
       "    \"@type\": \"vocals:StreamDescriptor\",\n",
       "    \"dcat:dataset\": {\n",
       "        \"@id\": \"streams/pizzastream\",\n",
       "        \"@type\": \"vocals:RDFStream\",\n",
       "        \"dcat:description\": \"Stream of pizza\",\n",
       "        \"dcat:landingPage\": \"https://example.org/rw/pizza/\",\n",
       "        \"dcat:publisher\": \"http://streamhub:9292/streamhub\",\n",
       "        \"dcat:title\": \"Pizza Stream\",\n",
       "        \"vocals:hasEndpoint\": [\n",
       "            [\n",
       "                {\n",
       "                    \"@id\": \"http://streamhub:9292/streamhub/PizzaEndpoint\",\n",
       "                    \"@type\": \"http://w3id.org/rsp/vocals#StreamEndpoint\",\n",
       "                    \"dcat:title\": \"A Pizza Stream Endpoint\",\n",
       "                    \"dcat:description\": \"Streaming endpoint to consume Pizza via WebSocket\",\n",
       "                    \"dcat:license\": \"https://creativecommons.org/licenses/by-nc/4.0/\",\n",
       "                    \"dcat:format\": \"http://www.w3.org/ns/formats/JSON-LD\",\n",
       "                    \"dcat:accessURL\": \"ws://pizzastream:8080\",\n",
       "                    \"vsd:publishedBy\": \"http://streamhub:9292/streamhub\"\n",
       "                }\n",
       "            ],\n",
       "            \"http://streamhub:9292/streamhub/PizzaEndpoint\"\n",
       "        ]\n",
       "    },\n",
       "    \"vsd:publishedBy\": {\n",
       "        \"@id\": \"./\",\n",
       "        \"@type\": \"vsd:PublishingService\",\n",
       "        \"vsd:hasFeature\": \"http://w3id.org/rsp/vocals-sd#replaying\",\n",
       "        \"vsd:resultFormat\": \"http://www.w3.org/ns/formats/JSON-LD\"\n",
       "    },\n",
       "    \"@context\": {\n",
       "        \"frmt\": \"http://www.w3.org/ns/formats/\",\n",
       "        \"owl\": \"http://www.w3.org/2002/07/owl#\",\n",
       "        \"rdf\": \"http://www.w3.org/1999/02/22-rdf-syntax-ns#\",\n",
       "        \"vsd\": \"http://w3id.org/rsp/vocals-sd#\",\n",
       "        \"xsd\": \"http://www.w3.org/2001/XMLSchema#\",\n",
       "        \"format\": \"http://www.w3.org/ns/formats/\",\n",
       "        \"vocals\": \"http://w3id.org/rsp/vocals#\",\n",
       "        \"rdfs\": \"http://www.w3.org/2000/01/rdf-schema#\",\n",
       "        \"vprov\": \"http://w3id.org/rsp/vocals-prov#\",\n",
       "        \"dcat\": \"http://www.w3.org/ns/dcat#\",\n",
       "        \"@base\": \"http://streamhub:9292/streamhub/\",\n",
       "        \"dcat:accessURL\": {\n",
       "            \"@type\": \"xsd:string\"\n",
       "        },\n",
       "        \"dcat:description\": {\n",
       "            \"@type\": \"http://www.w3.org/2001/XMLSchema#string\"\n",
       "        },\n",
       "        \"dcat:title\": {\n",
       "            \"@type\": \"http://www.w3.org/2001/XMLSchema#string\"\n",
       "        }\n",
       "    }\n",
       "}"
      ]
     },
     "execution_count": 4,
     "metadata": {},
     "output_type": "execute_result"
    }
   ],
   "source": [
    "streamhub.publish(vocals)"
   ]
  },
  {
   "cell_type": "markdown",
   "metadata": {},
   "source": [
    "## Checking if there is any stream"
   ]
  },
  {
   "cell_type": "code",
   "execution_count": 5,
   "metadata": {},
   "outputs": [
    {
     "data": {
      "text/plain": [
       "[http://streamhub:9292/streamhub/streams/pizzastream]"
      ]
     },
     "execution_count": 5,
     "metadata": {},
     "output_type": "execute_result"
    }
   ],
   "source": [
    "streamhub.lists()"
   ]
  },
  {
   "cell_type": "code",
   "execution_count": 6,
   "metadata": {},
   "outputs": [
    {
     "data": {
      "text/plain": [
       "[GET ws://pizzastream:8080]"
      ]
     },
     "execution_count": 6,
     "metadata": {},
     "output_type": "execute_result"
    }
   ],
   "source": [
    "streamhub.lists()[0].endpoints()"
   ]
  },
  {
   "cell_type": "markdown",
   "metadata": {},
   "source": [
    "## Getting the stream just registered"
   ]
  },
  {
   "cell_type": "code",
   "execution_count": 7,
   "metadata": {},
   "outputs": [],
   "source": [
    "pizzastream = streamhub.lists()[0].endpoints()[0]"
   ]
  },
  {
   "cell_type": "code",
   "execution_count": 8,
   "metadata": {},
   "outputs": [
    {
     "name": "stdout",
     "output_type": "stream",
     "text": [
      "WARNING: WebSocket will be open for a single connection!\n"
     ]
    },
    {
     "data": {
      "text/plain": [
       "{\n",
       "    \"@context\": {\n",
       "        \"pizza\": \"http://www.co-ode.org/ontologies/pizza/pizza.owl#\",\n",
       "        \"rdf\": \"http://www.w3.org/1999/02/22-rdf-syntax-ns#\",\n",
       "        \"rdfs\": \"http://www.w3.org/2000/01/rdf-schema#\"\n",
       "    },\n",
       "    \"@id\": \"668dd661-a305-4285-98d2-c091ca1f467a\",\n",
       "    \"@type\": \"pizza:Pepperoni\"\n",
       "}"
      ]
     },
     "execution_count": 8,
     "metadata": {},
     "output_type": "execute_result"
    }
   ],
   "source": [
    "pizzastream.call()"
   ]
  },
  {
   "cell_type": "markdown",
   "metadata": {},
   "source": [
    "## Setup jasper"
   ]
  },
  {
   "cell_type": "code",
   "execution_count": 9,
   "metadata": {},
   "outputs": [],
   "source": [
    "jasper = RSPEngine(\"http://jasper:8181/jasper\")"
   ]
  },
  {
   "cell_type": "code",
   "execution_count": 10,
   "metadata": {},
   "outputs": [
    {
     "data": {
      "text/plain": [
       "[]"
      ]
     },
     "execution_count": 10,
     "metadata": {},
     "output_type": "execute_result"
    }
   ],
   "source": [
    "jasper.streams()"
   ]
  },
  {
   "cell_type": "markdown",
   "metadata": {},
   "source": [
    "## Simple select query"
   ]
  },
  {
   "cell_type": "code",
   "execution_count": 11,
   "metadata": {},
   "outputs": [],
   "source": [
    "qid  = \"simple\"\n",
    "tbox = \"http://notebook:8888/files/pizza.owl\"\n",
    "frmt = \"JSON\"\n",
    "body =\"\"\"\n",
    "PREFIX : <http://www.co-ode.org/ontologies/pizza/pizza.owl#>\n",
    "SELECT ?p\n",
    "FROM NAMED WINDOW <pw> ON <http://streamhub:9292/streamhub/streams/pizzastream> [RANGE PT15S STEP PT5S]\n",
    "WHERE {\n",
    "    WINDOW <pw> {\n",
    "        ?p a :NamedPizza .\n",
    "    }\n",
    "}\n",
    "\"\"\""
   ]
  },
  {
   "cell_type": "code",
   "execution_count": 12,
   "metadata": {},
   "outputs": [],
   "source": [
    "query = jasper.create(qid, body, tbox, frmt)"
   ]
  },
  {
   "cell_type": "code",
   "execution_count": 13,
   "metadata": {},
   "outputs": [
    {
     "data": {
      "text/plain": [
       "[GET http://streamhub:9292/streamhub/streams/pizzastream]"
      ]
     },
     "execution_count": 13,
     "metadata": {},
     "output_type": "execute_result"
    }
   ],
   "source": [
    "query.sources()"
   ]
  },
  {
   "cell_type": "code",
   "execution_count": 14,
   "metadata": {},
   "outputs": [],
   "source": [
    "r = jasper.expose(qid, 'WEBSOCKET')"
   ]
  },
  {
   "cell_type": "code",
   "execution_count": 15,
   "metadata": {},
   "outputs": [
    {
     "data": {
      "text/plain": [
       "[http://streamhub:9292/streamhub/streams/pizzastream,\n",
       " http://jasper:8181/jasper/streams/simple]"
      ]
     },
     "execution_count": 15,
     "metadata": {},
     "output_type": "execute_result"
    }
   ],
   "source": [
    "jasper.streams()"
   ]
  },
  {
   "cell_type": "code",
   "execution_count": 16,
   "metadata": {},
   "outputs": [
    {
     "name": "stdout",
     "output_type": "stream",
     "text": [
      "WARNING: WebSocket will be open for a single connection!\n"
     ]
    },
    {
     "data": {
      "text/plain": [
       "{\n",
       "    \"p\": \"http://jasper:8181/68eb16f9-88d3-4b29-a89c-e1b5ffa83fe6\",\n",
       "    \"eventTime\": 1589467675950,\n",
       "    \"processingTime\": 1589467675952\n",
       "}"
      ]
     },
     "execution_count": 16,
     "metadata": {},
     "output_type": "execute_result"
    }
   ],
   "source": [
    "resp = r.endpoints()[0].call()\n",
    "resp"
   ]
  },
  {
   "cell_type": "markdown",
   "metadata": {},
   "source": [
    "## Join uning Ontop SPARQL Endpoint"
   ]
  },
  {
   "cell_type": "code",
   "execution_count": 17,
   "metadata": {},
   "outputs": [],
   "source": [
    "qid  = \"complex\"\n",
    "tbox = \"http://notebook:8888/files/pizza.owl\"\n",
    "frmt = \"JSON\"\n",
    "body =\"\"\"\n",
    "PREFIX : <http://www.co-ode.org/ontologies/pizza/pizza.owl#>\n",
    "PREFIX cook: <http://linkeddata.stream/ontologies/cooking#>\n",
    "SELECT ?p ?t\n",
    "FROM NAMED WINDOW <pw> ON <http://streamhub:9292/streamhub/streams/pizzastream> [RANGE PT15S STEP PT5S]\n",
    "WHERE {\n",
    "    WINDOW <pw> {\n",
    "        ?p a :Margherita .\n",
    "    }\n",
    "    SERVICE <http://ontop:8080/sparql> {\n",
    "        :Margherita cook:tempAvg ?t .\n",
    "    }  \n",
    "}\n",
    "\"\"\""
   ]
  },
  {
   "cell_type": "code",
   "execution_count": 18,
   "metadata": {},
   "outputs": [],
   "source": [
    "query = jasper.create(qid, body, tbox, frmt)"
   ]
  },
  {
   "cell_type": "code",
   "execution_count": 19,
   "metadata": {},
   "outputs": [
    {
     "data": {
      "text/plain": [
       "[GET http://streamhub:9292/streamhub/streams/pizzastream]"
      ]
     },
     "execution_count": 19,
     "metadata": {},
     "output_type": "execute_result"
    }
   ],
   "source": [
    "query.sources()"
   ]
  },
  {
   "cell_type": "code",
   "execution_count": 20,
   "metadata": {},
   "outputs": [],
   "source": [
    "r = jasper.expose(qid, 'WEBSOCKET')"
   ]
  },
  {
   "cell_type": "code",
   "execution_count": 21,
   "metadata": {},
   "outputs": [
    {
     "data": {
      "text/plain": [
       "[http://streamhub:9292/streamhub/streams/pizzastream,\n",
       " http://jasper:8181/jasper/streams/simple,\n",
       " http://jasper:8181/jasper/streams/complex]"
      ]
     },
     "execution_count": 21,
     "metadata": {},
     "output_type": "execute_result"
    }
   ],
   "source": [
    "jasper.streams()"
   ]
  },
  {
   "cell_type": "code",
   "execution_count": null,
   "metadata": {},
   "outputs": [],
   "source": [
    "resp = r.endpoints()[0].call()\n",
    "resp"
   ]
  },
  {
   "cell_type": "markdown",
   "metadata": {},
   "source": [
    "## Deleting the stream registered"
   ]
  },
  {
   "cell_type": "raw",
   "metadata": {},
   "source": [
    "streamhub.delete('pizzastream')"
   ]
  },
  {
   "cell_type": "raw",
   "metadata": {},
   "source": [
    "streamhub.lists()"
   ]
  },
  {
   "cell_type": "code",
   "execution_count": null,
   "metadata": {},
   "outputs": [],
   "source": []
  },
  {
   "cell_type": "code",
   "execution_count": null,
   "metadata": {},
   "outputs": [],
   "source": []
  }
 ],
 "metadata": {
  "kernelspec": {
   "display_name": "Python 3",
   "language": "python",
   "name": "python3"
  },
  "language_info": {
   "codemirror_mode": {
    "name": "ipython",
    "version": 3
   },
   "file_extension": ".py",
   "mimetype": "text/x-python",
   "name": "python",
   "nbconvert_exporter": "python",
   "pygments_lexer": "ipython3",
   "version": "3.6.7"
  }
 },
 "nbformat": 4,
 "nbformat_minor": 2
}
