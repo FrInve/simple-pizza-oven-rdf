{
 "cells": [
  {
   "cell_type": "markdown",
   "metadata": {},
   "source": [
    "# LINEAR PIZZA OVEN CHALLENGE\n",
    "\n",
    "---"
   ]
  },
  {
   "cell_type": "markdown",
   "metadata": {},
   "source": [
    "### Sources:\n",
    "- S1: Camera that recognizes the topping [ws://streams:9400](ws://streams:9400)\n",
    "- S2: Oven thermometer [ws://streams:9500](ws://streams:9500)"
   ]
  },
  {
   "cell_type": "markdown",
   "metadata": {},
   "source": [
    "---"
   ]
  },
  {
   "cell_type": "code",
   "execution_count": 61,
   "metadata": {},
   "outputs": [],
   "source": [
    "from rsplib import RSPEngine, RSPPublisher, Stream, rdf_table,load_graph, accessURL"
   ]
  },
  {
   "cell_type": "markdown",
   "metadata": {},
   "source": [
    "### Publish the streams"
   ]
  },
  {
   "cell_type": "code",
   "execution_count": 99,
   "metadata": {},
   "outputs": [],
   "source": [
    "###Create stream from both sensors\n",
    "streamhub = RSPPublisher(\"http://streamhub:9292/streamhub\")"
   ]
  },
  {
   "cell_type": "code",
   "execution_count": 100,
   "metadata": {},
   "outputs": [],
   "source": [
    "##Publication query\n",
    "vocals1 = '''\n",
    "BASE  <http://streamhub:9292/streamhub>\n",
    "PREFIX xsd: <http://www.w3.org/2001/XMLSchema#>\n",
    "PREFIX rdfs: <http://www.w3.org/2000/01/rdf-schema#>\n",
    "PREFIX dcat: <http://www.w3.org/ns/dcat#>\n",
    "PREFIX frmt: <http://www.w3.org/ns/formats/>\n",
    "PREFIX vocals: <http://w3id.org/rsp/vocals#>\n",
    "PREFIX vsd: <http://w3id.org/rsp/vocals-sd#>\n",
    "REGISTER STREAM :pizzastream\n",
    "FROM SOURCE <ws://streams:9400>\n",
    "WHERE {\n",
    "\n",
    "           {this} a vocals:StreamDescriptor .\n",
    "\n",
    "           {publisher} a vsd:PublishingService ;\n",
    "                         vsd:hasFeature vsd:replaying ;\n",
    "                         vsd:resultFormat frmt:JSON-LD .\n",
    "\n",
    "           :PizzaEndpoint a vocals:StreamEndpoint ;\n",
    "                            dcat:title \"A Pizza Stream Endpoint\"^^xsd:string ;\n",
    "                            dcat:description \"Streaming endpoint to consume Colors via WebSocket\"^^xsd:string ;\n",
    "                            dcat:license <https://creativecommons.org/licenses/by-nc/4.0/> ;\n",
    "                            dcat:format frmt:JSON-LD ;\n",
    "                            dcat:accessURL {source} ;\n",
    "                            vsd:publishedBy {publisher} .\n",
    "\n",
    "           {stream} a vocals:RDFStream ;\n",
    "                    dcat:title \"Color Stream\"^^xsd:string ;\n",
    "                    dcat:description \"Stream of colors\"^^xsd:string ;\n",
    "                    dcat:publisher {publisher} ;\n",
    "                    dcat:landingPage <https://example.org/rw/colors/> ;\n",
    "                    vocals:hasEndpoint :PizzaEndpoint  .\n",
    "\n",
    "}'''"
   ]
  },
  {
   "cell_type": "code",
   "execution_count": 101,
   "metadata": {},
   "outputs": [
    {
     "data": {
      "text/plain": [
       "{\n",
       "    \"@id\": \"streams/pizzastream\",\n",
       "    \"@type\": \"vocals:StreamDescriptor\",\n",
       "    \"dcat:dataset\": {\n",
       "        \"@id\": \"streams/pizzastream\",\n",
       "        \"@type\": \"vocals:RDFStream\",\n",
       "        \"dcat:description\": \"Stream of colors\",\n",
       "        \"dcat:landingPage\": \"https://example.org/rw/colors/\",\n",
       "        \"dcat:publisher\": \"http://streamhub:9292/streamhub\",\n",
       "        \"dcat:title\": \"Color Stream\",\n",
       "        \"vocals:hasEndpoint\": [\n",
       "            [\n",
       "                {\n",
       "                    \"@id\": \"http://streamhub:9292/streamhub/PizzaEndpoint\",\n",
       "                    \"@type\": \"http://w3id.org/rsp/vocals#StreamEndpoint\",\n",
       "                    \"dcat:title\": \"A Pizza Stream Endpoint\",\n",
       "                    \"dcat:description\": \"Streaming endpoint to consume Colors via WebSocket\",\n",
       "                    \"dcat:license\": \"https://creativecommons.org/licenses/by-nc/4.0/\",\n",
       "                    \"dcat:format\": \"http://www.w3.org/ns/formats/JSON-LD\",\n",
       "                    \"dcat:accessURL\": \"ws://streams:9400\",\n",
       "                    \"vsd:publishedBy\": \"http://streamhub:9292/streamhub\"\n",
       "                }\n",
       "            ],\n",
       "            \"http://streamhub:9292/streamhub/PizzaEndpoint\"\n",
       "        ]\n",
       "    },\n",
       "    \"vsd:publishedBy\": {\n",
       "        \"@id\": \"./\",\n",
       "        \"@type\": \"vsd:PublishingService\",\n",
       "        \"vsd:hasFeature\": \"http://w3id.org/rsp/vocals-sd#replaying\",\n",
       "        \"vsd:resultFormat\": \"http://www.w3.org/ns/formats/JSON-LD\"\n",
       "    },\n",
       "    \"@context\": {\n",
       "        \"frmt\": \"http://www.w3.org/ns/formats/\",\n",
       "        \"owl\": \"http://www.w3.org/2002/07/owl#\",\n",
       "        \"rdf\": \"http://www.w3.org/1999/02/22-rdf-syntax-ns#\",\n",
       "        \"vsd\": \"http://w3id.org/rsp/vocals-sd#\",\n",
       "        \"xsd\": \"http://www.w3.org/2001/XMLSchema#\",\n",
       "        \"format\": \"http://www.w3.org/ns/formats/\",\n",
       "        \"vocals\": \"http://w3id.org/rsp/vocals#\",\n",
       "        \"rdfs\": \"http://www.w3.org/2000/01/rdf-schema#\",\n",
       "        \"vprov\": \"http://w3id.org/rsp/vocals-prov#\",\n",
       "        \"dcat\": \"http://www.w3.org/ns/dcat#\",\n",
       "        \"@base\": \"http://streamhub:9292/streamhub/\",\n",
       "        \"dcat:accessURL\": {\n",
       "            \"@type\": \"xsd:string\"\n",
       "        },\n",
       "        \"dcat:description\": {\n",
       "            \"@type\": \"http://www.w3.org/2001/XMLSchema#string\"\n",
       "        },\n",
       "        \"dcat:title\": {\n",
       "            \"@type\": \"http://www.w3.org/2001/XMLSchema#string\"\n",
       "        }\n",
       "    }\n",
       "}"
      ]
     },
     "execution_count": 101,
     "metadata": {},
     "output_type": "execute_result"
    }
   ],
   "source": [
    "streamhub.publish(vocals1)"
   ]
  },
  {
   "cell_type": "code",
   "execution_count": 102,
   "metadata": {},
   "outputs": [],
   "source": [
    "##Publication query\n",
    "vocals2 = '''\n",
    "BASE  <http://streamhub:9292/streamhub>\n",
    "PREFIX xsd: <http://www.w3.org/2001/XMLSchema#>\n",
    "PREFIX rdfs: <http://www.w3.org/2000/01/rdf-schema#>\n",
    "PREFIX dcat: <http://www.w3.org/ns/dcat#>\n",
    "PREFIX frmt: <http://www.w3.org/ns/formats/>\n",
    "PREFIX vocals: <http://w3id.org/rsp/vocals#>\n",
    "PREFIX vsd: <http://w3id.org/rsp/vocals-sd#>\n",
    "REGISTER STREAM :tempstream\n",
    "FROM SOURCE <ws://streams:9500>\n",
    "WHERE {\n",
    "\n",
    "           {this} a vocals:StreamDescriptor .\n",
    "\n",
    "           {publisher} a vsd:PublishingService ;\n",
    "                         vsd:hasFeature vsd:replaying ;\n",
    "                         vsd:resultFormat frmt:JSON-LD .\n",
    "\n",
    "           :TempEndpoint a vocals:StreamEndpoint ;\n",
    "                            dcat:title \"A Pizza Stream Endpoint\"^^xsd:string ;\n",
    "                            dcat:description \"Streaming endpoint to consume Colors via WebSocket\"^^xsd:string ;\n",
    "                            dcat:license <https://creativecommons.org/licenses/by-nc/4.0/> ;\n",
    "                            dcat:format frmt:JSON-LD ;\n",
    "                            dcat:accessURL {source} ;\n",
    "                            vsd:publishedBy {publisher} .\n",
    "\n",
    "           {stream} a vocals:RDFStream ;\n",
    "                    dcat:title \"Color Stream\"^^xsd:string ;\n",
    "                    dcat:description \"Stream of colors\"^^xsd:string ;\n",
    "                    dcat:publisher {publisher} ;\n",
    "                    dcat:landingPage <https://example.org/rw/colors/> ;\n",
    "                    vocals:hasEndpoint :TempEndpoint  .\n",
    "\n",
    "}'''"
   ]
  },
  {
   "cell_type": "code",
   "execution_count": 103,
   "metadata": {
    "scrolled": true
   },
   "outputs": [
    {
     "data": {
      "text/plain": [
       "{\n",
       "    \"@id\": \"streams/tempstream\",\n",
       "    \"@type\": \"vocals:StreamDescriptor\",\n",
       "    \"dcat:dataset\": {\n",
       "        \"@id\": \"streams/tempstream\",\n",
       "        \"@type\": \"vocals:RDFStream\",\n",
       "        \"dcat:description\": \"Stream of colors\",\n",
       "        \"dcat:landingPage\": \"https://example.org/rw/colors/\",\n",
       "        \"dcat:publisher\": \"http://streamhub:9292/streamhub\",\n",
       "        \"dcat:title\": \"Color Stream\",\n",
       "        \"vocals:hasEndpoint\": [\n",
       "            [\n",
       "                {\n",
       "                    \"@id\": \"http://streamhub:9292/streamhub/TempEndpoint\",\n",
       "                    \"@type\": \"http://w3id.org/rsp/vocals#StreamEndpoint\",\n",
       "                    \"dcat:title\": \"A Pizza Stream Endpoint\",\n",
       "                    \"dcat:description\": \"Streaming endpoint to consume Colors via WebSocket\",\n",
       "                    \"dcat:license\": \"https://creativecommons.org/licenses/by-nc/4.0/\",\n",
       "                    \"dcat:format\": \"http://www.w3.org/ns/formats/JSON-LD\",\n",
       "                    \"dcat:accessURL\": \"ws://streams:9500\",\n",
       "                    \"vsd:publishedBy\": \"http://streamhub:9292/streamhub\"\n",
       "                }\n",
       "            ],\n",
       "            \"http://streamhub:9292/streamhub/TempEndpoint\"\n",
       "        ]\n",
       "    },\n",
       "    \"vsd:publishedBy\": {\n",
       "        \"@id\": \"./\",\n",
       "        \"@type\": \"vsd:PublishingService\",\n",
       "        \"vsd:hasFeature\": \"http://w3id.org/rsp/vocals-sd#replaying\",\n",
       "        \"vsd:resultFormat\": \"http://www.w3.org/ns/formats/JSON-LD\"\n",
       "    },\n",
       "    \"@context\": {\n",
       "        \"frmt\": \"http://www.w3.org/ns/formats/\",\n",
       "        \"owl\": \"http://www.w3.org/2002/07/owl#\",\n",
       "        \"rdf\": \"http://www.w3.org/1999/02/22-rdf-syntax-ns#\",\n",
       "        \"vsd\": \"http://w3id.org/rsp/vocals-sd#\",\n",
       "        \"xsd\": \"http://www.w3.org/2001/XMLSchema#\",\n",
       "        \"format\": \"http://www.w3.org/ns/formats/\",\n",
       "        \"vocals\": \"http://w3id.org/rsp/vocals#\",\n",
       "        \"rdfs\": \"http://www.w3.org/2000/01/rdf-schema#\",\n",
       "        \"vprov\": \"http://w3id.org/rsp/vocals-prov#\",\n",
       "        \"dcat\": \"http://www.w3.org/ns/dcat#\",\n",
       "        \"@base\": \"http://streamhub:9292/streamhub/\",\n",
       "        \"dcat:accessURL\": {\n",
       "            \"@type\": \"xsd:string\"\n",
       "        },\n",
       "        \"dcat:description\": {\n",
       "            \"@type\": \"http://www.w3.org/2001/XMLSchema#string\"\n",
       "        },\n",
       "        \"dcat:title\": {\n",
       "            \"@type\": \"http://www.w3.org/2001/XMLSchema#string\"\n",
       "        }\n",
       "    }\n",
       "}"
      ]
     },
     "execution_count": 103,
     "metadata": {},
     "output_type": "execute_result"
    }
   ],
   "source": [
    "streamhub.publish(vocals2)"
   ]
  },
  {
   "cell_type": "code",
   "execution_count": 104,
   "metadata": {},
   "outputs": [
    {
     "data": {
      "text/plain": [
       "[http://streamhub:9292/streamhub/streams/pizzastream,\n",
       " http://streamhub:9292/streamhub/streams/tempstream]"
      ]
     },
     "execution_count": 104,
     "metadata": {},
     "output_type": "execute_result"
    }
   ],
   "source": [
    "streamhub.lists()"
   ]
  },
  {
   "cell_type": "markdown",
   "metadata": {},
   "source": [
    "#### Use this to delete the streams before closing..."
   ]
  },
  {
   "cell_type": "code",
   "execution_count": 105,
   "metadata": {},
   "outputs": [
    {
     "data": {
      "text/plain": [
       "[]"
      ]
     },
     "execution_count": 105,
     "metadata": {},
     "output_type": "execute_result"
    }
   ],
   "source": [
    "streamhub.delete('pizzastream')\n",
    "streamhub.delete('tempstream')\n",
    "streamhub.lists()"
   ]
  },
  {
   "cell_type": "markdown",
   "metadata": {},
   "source": [
    "### Initialize the RSPEngine"
   ]
  },
  {
   "cell_type": "code",
   "execution_count": 37,
   "metadata": {},
   "outputs": [],
   "source": [
    "jasper = RSPEngine(\"http://jasper:8181/jasper\")"
   ]
  },
  {
   "cell_type": "code",
   "execution_count": 38,
   "metadata": {},
   "outputs": [
    {
     "data": {
      "text/plain": [
       "[]"
      ]
     },
     "execution_count": 38,
     "metadata": {},
     "output_type": "execute_result"
    }
   ],
   "source": [
    "jasper.streams()"
   ]
  },
  {
   "cell_type": "code",
   "execution_count": 19,
   "metadata": {},
   "outputs": [
    {
     "data": {
      "text/plain": [
       "[]"
      ]
     },
     "execution_count": 19,
     "metadata": {},
     "output_type": "execute_result"
    }
   ],
   "source": [
    "jasper.tasks()"
   ]
  },
  {
   "cell_type": "markdown",
   "metadata": {},
   "source": [
    "## Define the query"
   ]
  },
  {
   "cell_type": "markdown",
   "metadata": {},
   "source": [
    "### Get the knowledge graph with Ontop from Carl's database\n",
    "- Connect to the ontop container via SSH\n",
    "- Run   \n",
    "`./ontop materialize --format rdfxml -m input/cooking-mapping.ttl -p input/cooking.properties -o input/cooking-knowledge-graph.rdf`  \n",
    "to export the graph built from Carl's relational database to an rdf file (Available at [http://localhost:8080/files/cooking-knowledge-graph.rdf](http://localhost:8080/files/cooking-knowledge-graph.rdf))"
   ]
  },
  {
   "cell_type": "markdown",
   "metadata": {},
   "source": [
    "#### Generated RDF file `cooking-knowledge-graph.rdf` below"
   ]
  },
  {
   "cell_type": "code",
   "execution_count": 8,
   "metadata": {
    "scrolled": true
   },
   "outputs": [
    {
     "name": "stdout",
     "output_type": "stream",
     "text": [
      "<?xml version=\"1.0\" encoding=\"UTF-8\"?>\n",
      "<rdf:RDF\n",
      "\txmlns:rdf=\"http://www.w3.org/1999/02/22-rdf-syntax-ns#\">\n",
      "\n",
      "<rdf:Description rdf:about=\"http://www.co-ode.org/ontologies/pizza/pizza.owl#Margherita\">\n",
      "\t<tempAvg xmlns=\"http://linkeddata.stream/ontologies/cooking#\" rdf:datatype=\"http://www.w3.org/2001/XMLSchema#decimal\">280</tempAvg>\n",
      "</rdf:Description>\n",
      "\n",
      "<rdf:Description rdf:about=\"http://www.co-ode.org/ontologies/pizza/pizza.owl#American\">\n",
      "\t<tempAvg xmlns=\"http://linkeddata.stream/ontologies/cooking#\" rdf:datatype=\"http://www.w3.org/2001/XMLSchema#decimal\">270</tempAvg>\n",
      "</rdf:Description>\n",
      "\n",
      "<rdf:Description rdf:about=\"http://www.co-ode.org/ontologies/pizza/pizza.owl#Margherita\">\n",
      "\t<tempStd xmlns=\"http://linkeddata.stream/ontologies/cooking#\" rdf:datatype=\"http://www.w3.org/2001/XMLSchema#decimal\">10</tempStd>\n",
      "</rdf:Description>\n",
      "\n",
      "<rdf:Description rdf:about=\"http://www.co-ode.org/ontologies/pizza/pizza.owl#American\">\n",
      "\t<tempStd xmlns=\"http://linkeddata.stream/ontologies/cooking#\" rdf:datatype=\"http://www.w3.org/2001/XMLSchema#decimal\">5</tempStd>\n",
      "</rdf:Description>\n",
      "\n",
      "</rdf:RDF>\n"
     ]
    }
   ],
   "source": [
    "graph_file = open('./cooking-knowledge-graph.rdf', 'r')\n",
    "text = graph_file.read()\n",
    "print(text)"
   ]
  },
  {
   "cell_type": "markdown",
   "metadata": {},
   "source": [
    "### Check the Pizza Ontology\n",
    "Check the [Pizza Ontology](https://protege.stanford.edu/ontologies/pizza/pizza.owl) to write the query\n",
    "\n",
    "PREFIX is not supported, I have to use it statically...\n",
    "\n",
    "#### List of useful PREFIXs I'll need:\n",
    "- http://www.co-ode.org/ontologies/pizza/pizza.owl#"
   ]
  },
  {
   "cell_type": "markdown",
   "metadata": {},
   "source": [
    "### Query parameters"
   ]
  },
  {
   "cell_type": "code",
   "execution_count": 108,
   "metadata": {},
   "outputs": [],
   "source": [
    "qid = \"cooking\"\n",
    "tbox = \"https://protege.stanford.edu/ontologies/pizza/pizza.owl\"\n",
    "frmt = \"JSON\"\n",
    "body = '''\n",
    "SELECT ?x\n",
    "FROM NAMED WINDOW <wwin> ON <http://streamhub:9292/streamhub/streams/pizzastream> [RANGE PT10S STEP PT10S]\n",
    "    WHERE {\n",
    "        WINDOW <wwin> { ?x a pzo:Pizza .}\n",
    "    }\n",
    "'''"
   ]
  },
  {
   "cell_type": "code",
   "execution_count": 109,
   "metadata": {},
   "outputs": [
    {
     "data": {
      "text/plain": [
       "http://jasper:8181/jasper/queries/cooking"
      ]
     },
     "execution_count": 109,
     "metadata": {},
     "output_type": "execute_result"
    }
   ],
   "source": [
    "jasper.create(qid, body, tbox, frmt)"
   ]
  },
  {
   "cell_type": "code",
   "execution_count": 78,
   "metadata": {},
   "outputs": [
    {
     "data": {
      "text/plain": [
       "http://jasper:8181/jasper/queries/cooking"
      ]
     },
     "execution_count": 78,
     "metadata": {},
     "output_type": "execute_result"
    }
   ],
   "source": [
    "cooking_q = jasper.getq(qid)\n",
    "cooking_q"
   ]
  },
  {
   "cell_type": "code",
   "execution_count": 79,
   "metadata": {},
   "outputs": [
    {
     "data": {
      "text/plain": [
       "[http://jasper:8181/jasper/streams/cooking,\n",
       " http://streamhub:9292/streamhub/streams/pizzastream]"
      ]
     },
     "execution_count": 79,
     "metadata": {},
     "output_type": "execute_result"
    }
   ],
   "source": [
    "jasper.streams()"
   ]
  },
  {
   "cell_type": "code",
   "execution_count": 80,
   "metadata": {},
   "outputs": [],
   "source": [
    "cooking_stream = cooking_q.stream()"
   ]
  },
  {
   "cell_type": "code",
   "execution_count": 81,
   "metadata": {},
   "outputs": [
    {
     "data": {
      "image/svg+xml": [
       "<?xml version=\"1.0\" encoding=\"UTF-8\" standalone=\"no\"?>\n",
       "<!DOCTYPE svg PUBLIC \"-//W3C//DTD SVG 1.1//EN\"\n",
       " \"http://www.w3.org/Graphics/SVG/1.1/DTD/svg11.dtd\">\n",
       "<!-- Generated by graphviz version 2.40.1 (20161225.0304)\n",
       " -->\n",
       "<!-- Title: %3 Pages: 1 -->\n",
       "<svg class=\"unconfined\" width=\"217pt\" height=\"208pt\"\n",
       " viewBox=\"0.00 0.00 217.00 208.00\" xmlns=\"http://www.w3.org/2000/svg\" xmlns:xlink=\"http://www.w3.org/1999/xlink\">\n",
       "<g id=\"graph0\" class=\"graph\" transform=\"scale(1 1) rotate(0) translate(4 204)\">\n",
       "<title>%3</title>\n",
       "<polygon fill=\"#ffffff\" stroke=\"transparent\" points=\"-4,4 -4,-204 213,-204 213,4 -4,4\"/>\n",
       "<!-- node0 -->\n",
       "<g id=\"node1\" class=\"node\">\n",
       "<title>node0</title>\n",
       "<text text-anchor=\"middle\" x=\"104.5\" y=\"-179.5\" font-family=\"DejaVu Sans,Tahoma,Geneva,sans-serif\" font-size=\"10.00\" fill=\"#000000\">Ne2e70dd5770547838f08b58f4728175f</text>\n",
       "</g>\n",
       "<!-- node1 -->\n",
       "<g id=\"node2\" class=\"node\">\n",
       "<title>node1</title>\n",
       "<g id=\"a_node2\"><a xlink:href=\"http://w3id.org/rsp/vocals#StreamDescriptor\" xlink:title=\"StreamDescriptor\" target=\"_other\">\n",
       "<text text-anchor=\"middle\" x=\"74.5\" y=\"-97.5\" font-family=\"DejaVu Sans,Tahoma,Geneva,sans-serif\" font-size=\"10.00\" fill=\"#0000ff\">StreamDescriptor</text>\n",
       "</a>\n",
       "</g>\n",
       "</g>\n",
       "<!-- node0&#45;&gt;node1 -->\n",
       "<g id=\"edge1\" class=\"edge\">\n",
       "<title>node0&#45;&gt;node1</title>\n",
       "<g id=\"a_edge1\"><a xlink:href=\"http://www.w3.org/1999/02/22-rdf-syntax-ns#type\" xlink:title=\"rdf:type\" target=\"_other\">\n",
       "<path fill=\"none\" stroke=\"#9fc9e5\" stroke-opacity=\"0.376471\" d=\"M97.842,-163.8015C93.958,-153.1853 88.9799,-139.5784 84.6194,-127.6596\"/>\n",
       "<polygon fill=\"#9fc9e5\" fill-opacity=\"0.376471\" stroke=\"#9fc9e5\" stroke-opacity=\"0.376471\" points=\"81.1394,-118.1476 88.8013,-125.9927 82.8573,-122.8432 84.5752,-127.5388 84.5752,-127.5388 84.5752,-127.5388 82.8573,-122.8432 80.3492,-129.085 81.1394,-118.1476 81.1394,-118.1476\"/>\n",
       "</a>\n",
       "</g>\n",
       "<g id=\"a_edge1&#45;label\"><a xlink:href=\"http://www.w3.org/1999/02/22-rdf-syntax-ns#type\" xlink:title=\"rdf:type\" target=\"_other\">\n",
       "<text text-anchor=\"middle\" x=\"110\" y=\"-138.8\" font-family=\"Times,serif\" font-size=\"9.00\" fill=\"#204080\">rdf:type</text>\n",
       "</a>\n",
       "</g>\n",
       "</g>\n",
       "<!-- node2 -->\n",
       "<g id=\"node3\" class=\"node\">\n",
       "<title>node2</title>\n",
       "<g id=\"a_node3\"><a xlink:href=\"http://jasper:8181/jasper/streams/cooking\" xlink:title=\"cooking\" target=\"_other\">\n",
       "<text text-anchor=\"middle\" x=\"171.5\" y=\"-97.5\" font-family=\"DejaVu Sans,Tahoma,Geneva,sans-serif\" font-size=\"10.00\" fill=\"#0000ff\">cooking</text>\n",
       "</a>\n",
       "</g>\n",
       "</g>\n",
       "<!-- node0&#45;&gt;node2 -->\n",
       "<g id=\"edge2\" class=\"edge\">\n",
       "<title>node0&#45;&gt;node2</title>\n",
       "<g id=\"a_edge2\"><a xlink:href=\"http://www.w3.org/ns/dcat#dataset\" xlink:title=\"dcat:dataset\" target=\"_other\">\n",
       "<path fill=\"none\" stroke=\"#9fc9e5\" stroke-opacity=\"0.376471\" d=\"M119.3695,-163.8015C128.3907,-152.7606 140.0549,-138.4851 150.0618,-126.2378\"/>\n",
       "<polygon fill=\"#9fc9e5\" fill-opacity=\"0.376471\" stroke=\"#9fc9e5\" stroke-opacity=\"0.376471\" points=\"156.6721,-118.1476 153.8295,-128.7387 153.5085,-122.0195 150.3448,-125.8914 150.3448,-125.8914 150.3448,-125.8914 153.5085,-122.0195 146.8601,-123.0441 156.6721,-118.1476 156.6721,-118.1476\"/>\n",
       "</a>\n",
       "</g>\n",
       "<g id=\"a_edge2&#45;label\"><a xlink:href=\"http://www.w3.org/ns/dcat#dataset\" xlink:title=\"dcat:dataset\" target=\"_other\">\n",
       "<text text-anchor=\"middle\" x=\"170.5\" y=\"-138.8\" font-family=\"Times,serif\" font-size=\"9.00\" fill=\"#204080\">dcat:dataset</text>\n",
       "</a>\n",
       "</g>\n",
       "</g>\n",
       "<!-- node3 -->\n",
       "<g id=\"node4\" class=\"node\">\n",
       "<title>node3</title>\n",
       "<g id=\"a_node4\"><a xlink:href=\"http://w3id.org/rsp/vocals#RDFStream\" xlink:title=\"RDFStream\" target=\"_other\">\n",
       "<text text-anchor=\"middle\" x=\"171.5\" y=\"-15.5\" font-family=\"DejaVu Sans,Tahoma,Geneva,sans-serif\" font-size=\"10.00\" fill=\"#0000ff\">RDFStream</text>\n",
       "</a>\n",
       "</g>\n",
       "</g>\n",
       "<!-- node2&#45;&gt;node3 -->\n",
       "<g id=\"edge3\" class=\"edge\">\n",
       "<title>node2&#45;&gt;node3</title>\n",
       "<g id=\"a_edge3\"><a xlink:href=\"http://www.w3.org/1999/02/22-rdf-syntax-ns#type\" xlink:title=\"rdf:type\" target=\"_other\">\n",
       "<path fill=\"none\" stroke=\"#9fc9e5\" stroke-opacity=\"0.376471\" d=\"M171.5,-81.8015C171.5,-71.3976 171.5,-58.1215 171.5,-46.3768\"/>\n",
       "<polygon fill=\"#9fc9e5\" fill-opacity=\"0.376471\" stroke=\"#9fc9e5\" stroke-opacity=\"0.376471\" points=\"171.5,-36.1476 176.0001,-46.1475 171.5,-41.1476 171.5001,-46.1476 171.5001,-46.1476 171.5001,-46.1476 171.5,-41.1476 167.0001,-46.1476 171.5,-36.1476 171.5,-36.1476\"/>\n",
       "</a>\n",
       "</g>\n",
       "<g id=\"a_edge3&#45;label\"><a xlink:href=\"http://www.w3.org/1999/02/22-rdf-syntax-ns#type\" xlink:title=\"rdf:type\" target=\"_other\">\n",
       "<text text-anchor=\"middle\" x=\"190\" y=\"-56.8\" font-family=\"Times,serif\" font-size=\"9.00\" fill=\"#204080\">rdf:type</text>\n",
       "</a>\n",
       "</g>\n",
       "</g>\n",
       "</g>\n",
       "</svg>\n"
      ]
     },
     "metadata": {},
     "output_type": "display_data"
    }
   ],
   "source": [
    "from rsplib.drawgraph import draw_graph\n",
    "from IPython.display import display_html, Javascript, SVG, Image, display_svg,display_png\n",
    "\n",
    "data, metadata = draw_graph(cooking_stream.g, 'svg')\n",
    "display_svg(data['image/svg+xml'], raw=True)"
   ]
  },
  {
   "cell_type": "code",
   "execution_count": 82,
   "metadata": {},
   "outputs": [],
   "source": [
    "r = jasper.expose(qid, 'HTTP', retention=5)"
   ]
  },
  {
   "cell_type": "code",
   "execution_count": 83,
   "metadata": {},
   "outputs": [
    {
     "data": {
      "text/plain": [
       "GET http://jasper:8182/jasper/streams/cooking/observers/1694407690"
      ]
     },
     "execution_count": 83,
     "metadata": {},
     "output_type": "execute_result"
    }
   ],
   "source": [
    "endpoint = r.endpoints()[0]\n",
    "endpoint"
   ]
  },
  {
   "cell_type": "code",
   "execution_count": 84,
   "metadata": {},
   "outputs": [
    {
     "data": {
      "text/plain": [
       "{\n",
       "    \"@id\": \"queries/cooking\",\n",
       "    \"@type\": \"vprov:Task\",\n",
       "    \"prov:generated\": {\n",
       "        \"@id\": \"streams/cooking\"\n",
       "    },\n",
       "    \"prov:uses\": {\n",
       "        \"@id\": \"http://streamhub:9292/streamhub/streams/pizzastream\"\n",
       "    },\n",
       "    \"@context\": {\n",
       "        \"@base\": \"http://jasper:8181/jasper/\",\n",
       "        \"rdf\": \"http://www.w3.org/1999/02/22-rdf-syntax-ns#\",\n",
       "        \"vsd\": \"http://w3id.org/rsp/vocals-sd#\",\n",
       "        \"vocals\": \"http://w3id.org/rsp/vocals#\",\n",
       "        \"xsd\": \"http://www.w3.org/2001/XMLSchema#\",\n",
       "        \"format\": \"http://www.w3.org/ns/formats/\",\n",
       "        \"rdfs\": \"http://www.w3.org/2000/01/rdf-schema#\",\n",
       "        \"vprov\": \"http://w3id.org/rsp/vocals-prov#\",\n",
       "        \"dcat\": \"http://www.w3.org/ns/dcat#\",\n",
       "        \"prov\": \"http://www.w3.org/ns/prov#\"\n",
       "    }\n",
       "}"
      ]
     },
     "execution_count": 84,
     "metadata": {},
     "output_type": "execute_result"
    }
   ],
   "source": [
    "jasper.delete(qid)"
   ]
  }
 ],
 "metadata": {
  "kernelspec": {
   "display_name": "Python 3",
   "language": "python",
   "name": "python3"
  },
  "language_info": {
   "codemirror_mode": {
    "name": "ipython",
    "version": 3
   },
   "file_extension": ".py",
   "mimetype": "text/x-python",
   "name": "python",
   "nbconvert_exporter": "python",
   "pygments_lexer": "ipython3",
   "version": "3.6.7"
  }
 },
 "nbformat": 4,
 "nbformat_minor": 2
}
